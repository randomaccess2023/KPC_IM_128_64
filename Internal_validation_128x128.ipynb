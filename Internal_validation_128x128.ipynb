{
 "cells": [
  {
   "cell_type": "code",
   "execution_count": 1,
   "id": "fa5370a8",
   "metadata": {},
   "outputs": [],
   "source": [
    "# import required libraries\n",
    "\n",
    "from MODULE.ClustersFeatures import ClustersCharacteristics\n",
    "import pandas as pd"
   ]
  },
  {
   "cell_type": "code",
   "execution_count": 2,
   "id": "aa172d2a",
   "metadata": {},
   "outputs": [],
   "source": [
    "# load latent features of all cluster sets for 128x128 patches\n",
    "\n",
    "latent_08_128 = pd.read_csv('/project/dsc-is/mahfujul-r/M/128/08/HHH08 & C08 & D08.csv', header=None)\n",
    "latent_09_128 = pd.read_csv('/project/dsc-is/mahfujul-r/M/128/09/HHH09 & C09 & D09.csv', header=None)\n",
    "latent_10_128 = pd.read_csv('/project/dsc-is/mahfujul-r/M/128/10/HHH10 & C10 & D10.csv', header=None)\n",
    "latent_11_128 = pd.read_csv('/project/dsc-is/mahfujul-r/M/128/11/HHH11 & C11 & D11.csv', header=None)\n",
    "latent_12_128 = pd.read_csv('/project/dsc-is/mahfujul-r/M/128/12/HHH12 & C12 & D12.csv', header=None)\n",
    "latent_13_128 = pd.read_csv('/project/dsc-is/mahfujul-r/M/128/13/HHH13 & C13 & D13.csv', header=None)\n",
    "latent_14_128 = pd.read_csv('/project/dsc-is/mahfujul-r/M/128/14/HHH14 & C14 & D14.csv', header=None)\n",
    "latent_15_128 = pd.read_csv('/project/dsc-is/mahfujul-r/M/128/15/HHH15 & C15 & D15.csv', header=None)\n",
    "latent_16_128 = pd.read_csv('/project/dsc-is/mahfujul-r/M/128/16/HHH16 & C16 & D16.csv', header=None)\n",
    "latent_17_128 = pd.read_csv('/project/dsc-is/mahfujul-r/M/128/17/HHH17 & C17 & D17.csv', header=None)\n",
    "latent_18_128 = pd.read_csv('/project/dsc-is/mahfujul-r/M/128/18/HHH18 & C18 & D18.csv', header=None)"
   ]
  },
  {
   "cell_type": "code",
   "execution_count": 3,
   "id": "beaab582",
   "metadata": {},
   "outputs": [],
   "source": [
    "# rename label column for all\n",
    "\n",
    "df08 = latent_08_128.loc[:, 0:128]\n",
    "df08.rename(columns={128: 'class'}, inplace=True)\n",
    "df09 = latent_09_128.loc[:, 0:128]\n",
    "df09.rename(columns={128: 'class'}, inplace=True)\n",
    "df10 = latent_10_128.loc[:, 0:128]\n",
    "df10.rename(columns={128: 'class'}, inplace=True)\n",
    "df11 = latent_11_128.loc[:, 0:128]\n",
    "df11.rename(columns={128: 'class'}, inplace=True)\n",
    "df12 = latent_12_128.loc[:, 0:128]\n",
    "df12.rename(columns={128: 'class'}, inplace=True)\n",
    "df13 = latent_13_128.loc[:, 0:128]\n",
    "df13.rename(columns={128: 'class'}, inplace=True)\n",
    "df14 = latent_14_128.loc[:, 0:128]\n",
    "df14.rename(columns={128: 'class'}, inplace=True)\n",
    "df15 = latent_15_128.loc[:, 0:128]\n",
    "df15.rename(columns={128: 'class'}, inplace=True)\n",
    "df16 = latent_16_128.loc[:, 0:128]\n",
    "df16.rename(columns={128: 'class'}, inplace=True)\n",
    "df17 = latent_17_128.loc[:, 0:128]\n",
    "df17.rename(columns={128: 'class'}, inplace=True)\n",
    "df18 = latent_18_128.loc[:, 0:128]\n",
    "df18.rename(columns={128: 'class'}, inplace=True)"
   ]
  },
  {
   "cell_type": "code",
   "execution_count": 4,
   "id": "ccd3fb6f",
   "metadata": {},
   "outputs": [],
   "source": [
    "# specify label column to calculate indices\n",
    "\n",
    "cc08 = ClustersCharacteristics(df08, label_target='class')\n",
    "cc09 = ClustersCharacteristics(df09, label_target='class')\n",
    "cc10 = ClustersCharacteristics(df10, label_target='class')\n",
    "cc11 = ClustersCharacteristics(df11, label_target='class')\n",
    "cc12 = ClustersCharacteristics(df12, label_target='class')\n",
    "cc13 = ClustersCharacteristics(df13, label_target='class')\n",
    "cc14 = ClustersCharacteristics(df14, label_target='class')\n",
    "cc15 = ClustersCharacteristics(df15, label_target='class')\n",
    "cc16 = ClustersCharacteristics(df16, label_target='class')\n",
    "cc17 = ClustersCharacteristics(df17, label_target='class')\n",
    "cc18 = ClustersCharacteristics(df18, label_target='class')"
   ]
  },
  {
   "cell_type": "markdown",
   "id": "a35179de",
   "metadata": {},
   "source": [
    "- `Xie-Beni` index"
   ]
  },
  {
   "cell_type": "code",
   "execution_count": 6,
   "id": "6d8da293",
   "metadata": {},
   "outputs": [
    {
     "name": "stdout",
     "output_type": "stream",
     "text": [
      "Xie-Beni index (08-clusters): 210.566\n",
      "Xie-Beni index (09-clusters): 123.37128\n",
      "Xie-Beni index (10-clusters): 269.10936\n",
      "Xie-Beni index (11-clusters): 109.27157\n",
      "Xie-Beni index (12-clusters): 197.86335\n",
      "Xie-Beni index (13-clusters): 83.87588\n",
      "Xie-Beni index (14-clusters): 77.13336\n",
      "Xie-Beni index (15-clusters): 89.88902\n",
      "Xie-Beni index (16-clusters): 88.22176\n",
      "Xie-Beni index (17-clusters): 107.32371\n",
      "Xie-Beni index (18-clusters): 130.49625\n"
     ]
    }
   ],
   "source": [
    "print('Xie-Beni index (08-clusters):', round(cc08.score_index_xie_beni(), 5))\n",
    "print('Xie-Beni index (09-clusters):', round(cc09.score_index_xie_beni(), 5))\n",
    "print('Xie-Beni index (10-clusters):', round(cc10.score_index_xie_beni(), 5))\n",
    "print('Xie-Beni index (11-clusters):', round(cc11.score_index_xie_beni(), 5))\n",
    "print('Xie-Beni index (12-clusters):', round(cc12.score_index_xie_beni(), 5))\n",
    "print('Xie-Beni index (13-clusters):', round(cc13.score_index_xie_beni(), 5))\n",
    "print('Xie-Beni index (14-clusters):', round(cc14.score_index_xie_beni(), 5))\n",
    "print('Xie-Beni index (15-clusters):', round(cc15.score_index_xie_beni(), 5))\n",
    "print('Xie-Beni index (16-clusters):', round(cc16.score_index_xie_beni(), 5))\n",
    "print('Xie-Beni index (17-clusters):', round(cc17.score_index_xie_beni(), 5))\n",
    "print('Xie-Beni index (18-clusters):', round(cc18.score_index_xie_beni(), 5))"
   ]
  },
  {
   "cell_type": "markdown",
   "id": "cd4230a1",
   "metadata": {},
   "source": [
    "Lower value of `Xie-Beni index` indicates better clustering"
   ]
  },
  {
   "cell_type": "markdown",
   "id": "ef2492ac",
   "metadata": {},
   "source": [
    "- `Calinski-Harabasz` index"
   ]
  },
  {
   "cell_type": "code",
   "execution_count": 7,
   "id": "e4480817",
   "metadata": {},
   "outputs": [
    {
     "name": "stdout",
     "output_type": "stream",
     "text": [
      "Calinski-Harabasz index (08-clusters): 3417.12372\n",
      "Calinski-Harabasz index (09-clusters): 3068.88135\n",
      "Calinski-Harabasz index (10-clusters): 1854.72219\n",
      "Calinski-Harabasz index (11-clusters): 3268.10641\n",
      "Calinski-Harabasz index (12-clusters): 2415.86019\n",
      "Calinski-Harabasz index (13-clusters): 3405.33049\n",
      "Calinski-Harabasz index (14-clusters): 3458.73942\n",
      "Calinski-Harabasz index (15-clusters): 3335.13698\n",
      "Calinski-Harabasz index (16-clusters): 2616.69806\n",
      "Calinski-Harabasz index (17-clusters): 2582.27002\n",
      "Calinski-Harabasz index (18-clusters): 2536.53023\n"
     ]
    }
   ],
   "source": [
    "print('Calinski-Harabasz index (08-clusters):', round(cc08.score_index_calinski_harabasz(), 5))\n",
    "print('Calinski-Harabasz index (09-clusters):', round(cc09.score_index_calinski_harabasz(), 5))\n",
    "print('Calinski-Harabasz index (10-clusters):', round(cc10.score_index_calinski_harabasz(), 5))\n",
    "print('Calinski-Harabasz index (11-clusters):', round(cc11.score_index_calinski_harabasz(), 5))\n",
    "print('Calinski-Harabasz index (12-clusters):', round(cc12.score_index_calinski_harabasz(), 5))\n",
    "print('Calinski-Harabasz index (13-clusters):', round(cc13.score_index_calinski_harabasz(), 5))\n",
    "print('Calinski-Harabasz index (14-clusters):', round(cc14.score_index_calinski_harabasz(), 5))\n",
    "print('Calinski-Harabasz index (15-clusters):', round(cc15.score_index_calinski_harabasz(), 5))\n",
    "print('Calinski-Harabasz index (16-clusters):', round(cc16.score_index_calinski_harabasz(), 5))\n",
    "print('Calinski-Harabasz index (17-clusters):', round(cc17.score_index_calinski_harabasz(), 5))\n",
    "print('Calinski-Harabasz index (18-clusters):', round(cc18.score_index_calinski_harabasz(), 5))"
   ]
  },
  {
   "cell_type": "markdown",
   "id": "75ee7ea1",
   "metadata": {},
   "source": [
    "Higher value of `Calinski-Harabasz index` indicates better clustering"
   ]
  },
  {
   "cell_type": "markdown",
   "id": "3e3ccfc7",
   "metadata": {},
   "source": [
    "- `C index`"
   ]
  },
  {
   "cell_type": "code",
   "execution_count": 8,
   "id": "8115eec5",
   "metadata": {},
   "outputs": [
    {
     "name": "stdout",
     "output_type": "stream",
     "text": [
      "C index (08-clusters): 0.11338\n",
      "C index (09-clusters): 0.1175\n",
      "C index (10-clusters): 0.10734\n",
      "C index (11-clusters): 0.10647\n",
      "C index (12-clusters): 0.11046\n",
      "C index (13-clusters): 0.09428\n",
      "C index (14-clusters): 0.08816\n",
      "C index (15-clusters): 0.09366\n",
      "C index (16-clusters): 0.10316\n",
      "C index (17-clusters): 0.08943\n",
      "C index (18-clusters): 0.09558\n"
     ]
    }
   ],
   "source": [
    "print('C index (08-clusters):', round(cc08.score_index_c(), 5))\n",
    "print('C index (09-clusters):', round(cc09.score_index_c(), 5))\n",
    "print('C index (10-clusters):', round(cc10.score_index_c(), 5))\n",
    "print('C index (11-clusters):', round(cc11.score_index_c(), 5))\n",
    "print('C index (12-clusters):', round(cc12.score_index_c(), 5))\n",
    "print('C index (13-clusters):', round(cc13.score_index_c(), 5))\n",
    "print('C index (14-clusters):', round(cc14.score_index_c(), 5))\n",
    "print('C index (15-clusters):', round(cc15.score_index_c(), 5))\n",
    "print('C index (16-clusters):', round(cc16.score_index_c(), 5))\n",
    "print('C index (17-clusters):', round(cc17.score_index_c(), 5))\n",
    "print('C index (18-clusters):', round(cc18.score_index_c(), 5))"
   ]
  },
  {
   "cell_type": "markdown",
   "id": "a4a2a567",
   "metadata": {},
   "source": [
    "Lower value of `C index` indicates better clustering"
   ]
  },
  {
   "cell_type": "markdown",
   "id": "cde5b775",
   "metadata": {},
   "source": [
    "- `Dunn index`"
   ]
  },
  {
   "cell_type": "code",
   "execution_count": 9,
   "id": "aaed0c44",
   "metadata": {},
   "outputs": [
    {
     "name": "stdout",
     "output_type": "stream",
     "text": [
      "Dunn index (08-clusters): 0.00697\n",
      "Dunn index (09-clusters): 0.01016\n",
      "Dunn index (10-clusters): 0.00727\n",
      "Dunn index (11-clusters): 0.00763\n",
      "Dunn index (12-clusters): 0.00592\n",
      "Dunn index (13-clusters): 0.0136\n",
      "Dunn index (14-clusters): 0.01128\n",
      "Dunn index (15-clusters): 0.0106\n",
      "Dunn index (16-clusters): 0.01104\n",
      "Dunn index (17-clusters): 0.00704\n",
      "Dunn index (18-clusters): 0.00981\n"
     ]
    }
   ],
   "source": [
    "print('Dunn index (08-clusters):', round(cc08.score_index_dunn(), 5))\n",
    "print('Dunn index (09-clusters):', round(cc09.score_index_dunn(), 5))\n",
    "print('Dunn index (10-clusters):', round(cc10.score_index_dunn(), 5))\n",
    "print('Dunn index (11-clusters):', round(cc11.score_index_dunn(), 5))\n",
    "print('Dunn index (12-clusters):', round(cc12.score_index_dunn(), 5))\n",
    "print('Dunn index (13-clusters):', round(cc13.score_index_dunn(), 5))\n",
    "print('Dunn index (14-clusters):', round(cc14.score_index_dunn(), 5))\n",
    "print('Dunn index (15-clusters):', round(cc15.score_index_dunn(), 5))\n",
    "print('Dunn index (16-clusters):', round(cc16.score_index_dunn(), 5))\n",
    "print('Dunn index (17-clusters):', round(cc17.score_index_dunn(), 5))\n",
    "print('Dunn index (18-clusters):', round(cc18.score_index_dunn(), 5))"
   ]
  },
  {
   "cell_type": "markdown",
   "id": "f9572ab3",
   "metadata": {},
   "source": [
    "Higher value of `Dunn index` indicates better clustering"
   ]
  },
  {
   "cell_type": "markdown",
   "id": "46fa2ac4",
   "metadata": {},
   "source": [
    "- `Hartigan index`"
   ]
  },
  {
   "cell_type": "code",
   "execution_count": 10,
   "id": "fc25da0d",
   "metadata": {},
   "outputs": [
    {
     "name": "stdout",
     "output_type": "stream",
     "text": [
      "Hartigan index (08-clusters): 0.46719\n",
      "Hartigan index (09-clusters): 0.4933\n",
      "Hartigan index (10-clusters): 0.10758\n",
      "Hartigan index (11-clusters): 0.77948\n",
      "Hartigan index (12-clusters): 0.5727\n",
      "Hartigan index (13-clusters): 1.00307\n",
      "Hartigan index (14-clusters): 1.09874\n",
      "Hartigan index (15-clusters): 1.13652\n",
      "Hartigan index (16-clusters): 0.96298\n",
      "Hartigan index (17-clusters): 1.01434\n",
      "Hartigan index (18-clusters): 1.05716\n"
     ]
    }
   ],
   "source": [
    "print('Hartigan index (08-clusters):', round(cc08.score_index_log_ss_ratio(), 5))\n",
    "print('Hartigan index (09-clusters):', round(cc09.score_index_log_ss_ratio(), 5))\n",
    "print('Hartigan index (10-clusters):', round(cc10.score_index_log_ss_ratio(), 5))\n",
    "print('Hartigan index (11-clusters):', round(cc11.score_index_log_ss_ratio(), 5))\n",
    "print('Hartigan index (12-clusters):', round(cc12.score_index_log_ss_ratio(), 5))\n",
    "print('Hartigan index (13-clusters):', round(cc13.score_index_log_ss_ratio(), 5))\n",
    "print('Hartigan index (14-clusters):', round(cc14.score_index_log_ss_ratio(), 5))\n",
    "print('Hartigan index (15-clusters):', round(cc15.score_index_log_ss_ratio(), 5))\n",
    "print('Hartigan index (16-clusters):', round(cc16.score_index_log_ss_ratio(), 5))\n",
    "print('Hartigan index (17-clusters):', round(cc17.score_index_log_ss_ratio(), 5))\n",
    "print('Hartigan index (18-clusters):', round(cc18.score_index_log_ss_ratio(), 5))"
   ]
  },
  {
   "cell_type": "markdown",
   "id": "668fce2b",
   "metadata": {},
   "source": [
    "Higher value of `Hartigan index` indicates better clustering"
   ]
  },
  {
   "cell_type": "markdown",
   "id": "52d1ba66",
   "metadata": {},
   "source": [
    "- `Mclain-Rao index`"
   ]
  },
  {
   "cell_type": "code",
   "execution_count": 11,
   "id": "e6f6b4b9",
   "metadata": {},
   "outputs": [
    {
     "name": "stdout",
     "output_type": "stream",
     "text": [
      "Mclain-Rao index (08-clusters): 0.49971\n",
      "Mclain-Rao index (09-clusters): 0.49636\n",
      "Mclain-Rao index (10-clusters): 0.51922\n",
      "Mclain-Rao index (11-clusters): 0.45388\n",
      "Mclain-Rao index (12-clusters): 0.47768\n",
      "Mclain-Rao index (13-clusters): 0.42899\n",
      "Mclain-Rao index (14-clusters): 0.43028\n",
      "Mclain-Rao index (15-clusters): 0.42482\n",
      "Mclain-Rao index (16-clusters): 0.44847\n",
      "Mclain-Rao index (17-clusters): 0.42538\n",
      "Mclain-Rao index (18-clusters): 0.42538\n"
     ]
    }
   ],
   "source": [
    "print('Mclain-Rao index (08-clusters):', round(cc08.score_index_mclain_rao(), 5))\n",
    "print('Mclain-Rao index (09-clusters):', round(cc09.score_index_mclain_rao(), 5))\n",
    "print('Mclain-Rao index (10-clusters):', round(cc10.score_index_mclain_rao(), 5))\n",
    "print('Mclain-Rao index (11-clusters):', round(cc11.score_index_mclain_rao(), 5))\n",
    "print('Mclain-Rao index (12-clusters):', round(cc12.score_index_mclain_rao(), 5))\n",
    "print('Mclain-Rao index (13-clusters):', round(cc13.score_index_mclain_rao(), 5))\n",
    "print('Mclain-Rao index (14-clusters):', round(cc14.score_index_mclain_rao(), 5))\n",
    "print('Mclain-Rao index (15-clusters):', round(cc15.score_index_mclain_rao(), 5))\n",
    "print('Mclain-Rao index (16-clusters):', round(cc16.score_index_mclain_rao(), 5))\n",
    "print('Mclain-Rao index (17-clusters):', round(cc17.score_index_mclain_rao(), 5))\n",
    "print('Mclain-Rao index (18-clusters):', round(cc18.score_index_mclain_rao(), 5))"
   ]
  },
  {
   "cell_type": "markdown",
   "id": "260cdc1a",
   "metadata": {},
   "source": [
    "Lower value of `Mclain-Rao index` indicates better clustering"
   ]
  }
 ],
 "metadata": {
  "kernelspec": {
   "display_name": "Python 3 (ipykernel)",
   "language": "python",
   "name": "python3"
  },
  "language_info": {
   "codemirror_mode": {
    "name": "ipython",
    "version": 3
   },
   "file_extension": ".py",
   "mimetype": "text/x-python",
   "name": "python",
   "nbconvert_exporter": "python",
   "pygments_lexer": "ipython3",
   "version": "3.9.13"
  }
 },
 "nbformat": 4,
 "nbformat_minor": 5
}
