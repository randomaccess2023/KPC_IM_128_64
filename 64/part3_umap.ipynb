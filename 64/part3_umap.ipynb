{
 "cells": [
  {
   "cell_type": "code",
   "execution_count": null,
   "id": "80ff8336",
   "metadata": {
    "tags": []
   },
   "outputs": [],
   "source": [
    "# import required libraries\n",
    "\n",
    "import pandas as pd\n",
    "import numpy as np\n",
    "import matplotlib.pyplot as plt\n",
    "import umap"
   ]
  },
  {
   "cell_type": "code",
   "execution_count": null,
   "id": "5943b4fb",
   "metadata": {},
   "outputs": [],
   "source": [
    "np.random.seed(765) # set random seed"
   ]
  },
  {
   "cell_type": "code",
   "execution_count": null,
   "id": "c4500fe7",
   "metadata": {},
   "outputs": [],
   "source": [
    "df = pd.read_csv('/project/dsc-is/mahfujul-r/M/64/14/HHH14 & C14 & D14.csv', header=None) # load dataframe\n",
    "df.rename(columns={128: 'class'}, inplace=True)\n",
    "df"
   ]
  },
  {
   "cell_type": "code",
   "execution_count": null,
   "id": "9c13a053",
   "metadata": {
    "tags": []
   },
   "outputs": [],
   "source": [
    "# separate features and labels\n",
    "\n",
    "features = df.loc[:, 0:127]\n",
    "target = df.loc[:, 'class']"
   ]
  },
  {
   "cell_type": "code",
   "execution_count": null,
   "id": "5e85d3df",
   "metadata": {},
   "outputs": [],
   "source": [
    "# reduce dimension using umap\n",
    "\n",
    "reduce = umap.UMAP(n_components=2, random_state=765)\n",
    "embedding = reduce.fit_transform(features)"
   ]
  },
  {
   "cell_type": "code",
   "execution_count": null,
   "id": "9a864b9b",
   "metadata": {},
   "outputs": [],
   "source": [
    "# visualize umap\n",
    "\n",
    "Xax = embedding[:, 0]\n",
    "Yax = embedding[:, 1]"
   ]
  },
  {
   "cell_type": "code",
   "execution_count": null,
   "id": "4e3a9d0e",
   "metadata": {},
   "outputs": [],
   "source": [
    "cdict = {0: 'r', 1: 'g', 2: 'm', 3: 'coral', 4: 'g', 5: 'gold', 6: 'coral', 7: 'coral', 8: 'coral', 9: 'g', 10: 'pink',\n",
    "         11: 'gray', 12: 'b', 13: 'coral'}\n",
    "labl = {0: '1', 1: '2', 2: '3', 3: '4', 4: '5', 5: '6', 6: '7', 7: '8', 8: '9', 9: '10', 10: '11', 11: '12', 12: '13',\n",
    "        13: '14'}\n",
    "marker = {0: 'o', 1: 'v', 2: '*', 3: '+', 4: 'x', 5: 'd', 6: 's', 7: 'p', 8: ',', 9: '^', 10: '<', 11: '>', 12: '.', 13: '1'}\n",
    "alpha = {0: 1, 1: 1, 2: 1, 3: 1, 4: 1, 5: 1, 6: 1, 7: 1, 8: 1, 9: 1, 10: 1, 11: 1, 12: 1, 13: 1}"
   ]
  },
  {
   "cell_type": "code",
   "execution_count": null,
   "id": "2b8e84e5",
   "metadata": {},
   "outputs": [],
   "source": [
    "fig = plt.figure(figsize=(10, 10))\n",
    "ax = fig.add_subplot(111)\n",
    "fig.patch.set_facecolor('white')\n",
    "for k in np.unique(target):\n",
    "    ix = np.where(target==k)\n",
    "    ax.scatter(Xax[ix], Yax[ix], c=cdict[k], s=80, label=labl[k], marker=marker[k], alpha=alpha[k])\n",
    "ax.set_xlabel('UMAP_1', fontsize=22)\n",
    "ax.set_ylabel('UMAP_2', fontsize=22)\n",
    "ax.legend(title='clusters', bbox_to_anchor=(1.01, 1.01), fontsize=15, title_fontsize=20)\n",
    "ax.set_title('2D UMAP_(14-cluster set)_64x64', fontsize=25);"
   ]
  }
 ],
 "metadata": {
  "kernelspec": {
   "display_name": "Python 3 (ipykernel)",
   "language": "python",
   "name": "python3"
  },
  "language_info": {
   "codemirror_mode": {
    "name": "ipython",
    "version": 3
   },
   "file_extension": ".py",
   "mimetype": "text/x-python",
   "name": "python",
   "nbconvert_exporter": "python",
   "pygments_lexer": "ipython3",
   "version": "3.9.13"
  }
 },
 "nbformat": 4,
 "nbformat_minor": 5
}
