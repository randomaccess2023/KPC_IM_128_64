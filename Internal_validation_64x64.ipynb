{
 "cells": [
  {
   "cell_type": "code",
   "execution_count": 1,
   "id": "fa5370a8",
   "metadata": {},
   "outputs": [],
   "source": [
    "# import required libraries\n",
    "\n",
    "from MODULE.ClustersFeatures import ClustersCharacteristics\n",
    "import pandas as pd"
   ]
  },
  {
   "cell_type": "code",
   "execution_count": 2,
   "id": "aa172d2a",
   "metadata": {},
   "outputs": [],
   "source": [
    "# load latent features of all cluster sets for 64x64 patches\n",
    "\n",
    "latent_08_64 = pd.read_csv('/project/dsc-is/mahfujul-r/M/64/08/HHH08 & C08 & D08.csv', header=None)\n",
    "latent_09_64 = pd.read_csv('/project/dsc-is/mahfujul-r/M/64/09/HHH09 & C09 & D09.csv', header=None)\n",
    "latent_10_64 = pd.read_csv('/project/dsc-is/mahfujul-r/M/64/10/HHH10 & C10 & D10.csv', header=None)\n",
    "latent_11_64 = pd.read_csv('/project/dsc-is/mahfujul-r/M/64/11/HHH11 & C11 & D11.csv', header=None)\n",
    "latent_12_64 = pd.read_csv('/project/dsc-is/mahfujul-r/M/64/12/HHH12 & C12 & D12.csv', header=None)\n",
    "latent_13_64 = pd.read_csv('/project/dsc-is/mahfujul-r/M/64/13/HHH13 & C13 & D13.csv', header=None)\n",
    "latent_14_64 = pd.read_csv('/project/dsc-is/mahfujul-r/M/64/14/HHH14 & C14 & D14.csv', header=None)\n",
    "latent_15_64 = pd.read_csv('/project/dsc-is/mahfujul-r/M/64/15/HHH15 & C15 & D15.csv', header=None)\n",
    "latent_16_64 = pd.read_csv('/project/dsc-is/mahfujul-r/M/64/16/HHH16 & C16 & D16.csv', header=None)\n",
    "latent_17_64 = pd.read_csv('/project/dsc-is/mahfujul-r/M/64/17/HHH17 & C17 & D17.csv', header=None)\n",
    "latent_18_64 = pd.read_csv('/project/dsc-is/mahfujul-r/M/64/18/HHH18 & C18 & D18.csv', header=None)"
   ]
  },
  {
   "cell_type": "code",
   "execution_count": 3,
   "id": "5076ca81",
   "metadata": {},
   "outputs": [],
   "source": [
    "# rename label column for all\n",
    "\n",
    "df08 = latent_08_64.loc[:, 0:128]\n",
    "df08.rename(columns={128: 'class'}, inplace=True)\n",
    "df09 = latent_09_64.loc[:, 0:128]\n",
    "df09.rename(columns={128: 'class'}, inplace=True)\n",
    "df10 = latent_10_64.loc[:, 0:128]\n",
    "df10.rename(columns={128: 'class'}, inplace=True)\n",
    "df11 = latent_11_64.loc[:, 0:128]\n",
    "df11.rename(columns={128: 'class'}, inplace=True)\n",
    "df12 = latent_12_64.loc[:, 0:128]\n",
    "df12.rename(columns={128: 'class'}, inplace=True)\n",
    "df13 = latent_13_64.loc[:, 0:128]\n",
    "df13.rename(columns={128: 'class'}, inplace=True)\n",
    "df14 = latent_14_64.loc[:, 0:128]\n",
    "df14.rename(columns={128: 'class'}, inplace=True)\n",
    "df15 = latent_15_64.loc[:, 0:128]\n",
    "df15.rename(columns={128: 'class'}, inplace=True)\n",
    "df16 = latent_16_64.loc[:, 0:128]\n",
    "df16.rename(columns={128: 'class'}, inplace=True)\n",
    "df17 = latent_17_64.loc[:, 0:128]\n",
    "df17.rename(columns={128: 'class'}, inplace=True)\n",
    "df18 = latent_18_64.loc[:, 0:128]\n",
    "df18.rename(columns={128: 'class'}, inplace=True)"
   ]
  },
  {
   "cell_type": "code",
   "execution_count": 4,
   "id": "ccd3fb6f",
   "metadata": {},
   "outputs": [],
   "source": [
    "# specify label column to calculate indices\n",
    "\n",
    "cc08 = ClustersCharacteristics(df08, label_target='class')\n",
    "cc09 = ClustersCharacteristics(df09, label_target='class')\n",
    "cc10 = ClustersCharacteristics(df10, label_target='class')\n",
    "cc11 = ClustersCharacteristics(df11, label_target='class')\n",
    "cc12 = ClustersCharacteristics(df12, label_target='class')\n",
    "cc13 = ClustersCharacteristics(df13, label_target='class')\n",
    "cc14 = ClustersCharacteristics(df14, label_target='class')\n",
    "cc15 = ClustersCharacteristics(df15, label_target='class')\n",
    "cc16 = ClustersCharacteristics(df16, label_target='class')\n",
    "cc17 = ClustersCharacteristics(df17, label_target='class')\n",
    "cc18 = ClustersCharacteristics(df18, label_target='class')"
   ]
  },
  {
   "cell_type": "markdown",
   "id": "f5e5675c",
   "metadata": {},
   "source": [
    "- `Xie-Beni` index"
   ]
  },
  {
   "cell_type": "code",
   "execution_count": 5,
   "id": "5cdbdef7",
   "metadata": {},
   "outputs": [
    {
     "name": "stdout",
     "output_type": "stream",
     "text": [
      "Xie-Beni index (08-clusters): 208.66015\n",
      "Xie-Beni index (09-clusters): 94.03908\n",
      "Xie-Beni index (10-clusters): 99.14787\n",
      "Xie-Beni index (11-clusters): 85.44762\n",
      "Xie-Beni index (12-clusters): 108.40803\n",
      "Xie-Beni index (13-clusters): 76.72227\n",
      "Xie-Beni index (14-clusters): 91.36067\n",
      "Xie-Beni index (15-clusters): 164.86141\n",
      "Xie-Beni index (16-clusters): 113.37091\n",
      "Xie-Beni index (17-clusters): 740.29343\n",
      "Xie-Beni index (18-clusters): 182.85043\n"
     ]
    }
   ],
   "source": [
    "print('Xie-Beni index (08-clusters):', round(cc08.score_index_xie_beni(), 5))\n",
    "print('Xie-Beni index (09-clusters):', round(cc09.score_index_xie_beni(), 5))\n",
    "print('Xie-Beni index (10-clusters):', round(cc10.score_index_xie_beni(), 5))\n",
    "print('Xie-Beni index (11-clusters):', round(cc11.score_index_xie_beni(), 5))\n",
    "print('Xie-Beni index (12-clusters):', round(cc12.score_index_xie_beni(), 5))\n",
    "print('Xie-Beni index (13-clusters):', round(cc13.score_index_xie_beni(), 5))\n",
    "print('Xie-Beni index (14-clusters):', round(cc14.score_index_xie_beni(), 5))\n",
    "print('Xie-Beni index (15-clusters):', round(cc15.score_index_xie_beni(), 5))\n",
    "print('Xie-Beni index (16-clusters):', round(cc16.score_index_xie_beni(), 5))\n",
    "print('Xie-Beni index (17-clusters):', round(cc17.score_index_xie_beni(), 5))\n",
    "print('Xie-Beni index (18-clusters):', round(cc18.score_index_xie_beni(), 5))"
   ]
  },
  {
   "cell_type": "markdown",
   "id": "cd4230a1",
   "metadata": {},
   "source": [
    "Lower value of `Xie-Beni index` indicates better clustering"
   ]
  },
  {
   "cell_type": "markdown",
   "id": "8c4371d5",
   "metadata": {},
   "source": [
    "- `Calinski-Harabasz` index"
   ]
  },
  {
   "cell_type": "code",
   "execution_count": 6,
   "id": "27f46d58",
   "metadata": {},
   "outputs": [
    {
     "name": "stdout",
     "output_type": "stream",
     "text": [
      "Calinski-Harabasz index (08-clusters): 1556.83725\n",
      "Calinski-Harabasz index (09-clusters): 2684.95843\n",
      "Calinski-Harabasz index (10-clusters): 2934.73878\n",
      "Calinski-Harabasz index (11-clusters): 3297.3707\n",
      "Calinski-Harabasz index (12-clusters): 2784.5543\n",
      "Calinski-Harabasz index (13-clusters): 2862.23775\n",
      "Calinski-Harabasz index (14-clusters): 2692.61013\n",
      "Calinski-Harabasz index (15-clusters): 2097.78152\n",
      "Calinski-Harabasz index (16-clusters): 2320.9412\n",
      "Calinski-Harabasz index (17-clusters): 1267.71892\n",
      "Calinski-Harabasz index (18-clusters): 1317.30883\n"
     ]
    }
   ],
   "source": [
    "print('Calinski-Harabasz index (08-clusters):', round(cc08.score_index_calinski_harabasz(), 5))\n",
    "print('Calinski-Harabasz index (09-clusters):', round(cc09.score_index_calinski_harabasz(), 5))\n",
    "print('Calinski-Harabasz index (10-clusters):', round(cc10.score_index_calinski_harabasz(), 5))\n",
    "print('Calinski-Harabasz index (11-clusters):', round(cc11.score_index_calinski_harabasz(), 5))\n",
    "print('Calinski-Harabasz index (12-clusters):', round(cc12.score_index_calinski_harabasz(), 5))\n",
    "print('Calinski-Harabasz index (13-clusters):', round(cc13.score_index_calinski_harabasz(), 5))\n",
    "print('Calinski-Harabasz index (14-clusters):', round(cc14.score_index_calinski_harabasz(), 5))\n",
    "print('Calinski-Harabasz index (15-clusters):', round(cc15.score_index_calinski_harabasz(), 5))\n",
    "print('Calinski-Harabasz index (16-clusters):', round(cc16.score_index_calinski_harabasz(), 5))\n",
    "print('Calinski-Harabasz index (17-clusters):', round(cc17.score_index_calinski_harabasz(), 5))\n",
    "print('Calinski-Harabasz index (18-clusters):', round(cc18.score_index_calinski_harabasz(), 5))"
   ]
  },
  {
   "cell_type": "markdown",
   "id": "1ffaf885",
   "metadata": {},
   "source": [
    "Higher value of `Calinski-Harabasz index` indicates better clustering"
   ]
  },
  {
   "cell_type": "markdown",
   "id": "040714cd",
   "metadata": {},
   "source": [
    "- `C index`"
   ]
  },
  {
   "cell_type": "code",
   "execution_count": 7,
   "id": "70d007a1",
   "metadata": {},
   "outputs": [
    {
     "name": "stdout",
     "output_type": "stream",
     "text": [
      "C index (08-clusters): 0.11185\n",
      "C index (09-clusters): 0.11189\n",
      "C index (10-clusters): 0.09697\n",
      "C index (11-clusters): 0.08767\n",
      "C index (12-clusters): 0.08885\n",
      "C index (13-clusters): 0.08772\n",
      "C index (14-clusters): 0.08322\n",
      "C index (15-clusters): 0.10025\n",
      "C index (16-clusters): 0.07896\n",
      "C index (17-clusters): 0.07132\n",
      "C index (18-clusters): 0.07615\n"
     ]
    }
   ],
   "source": [
    "print('C index (08-clusters):', round(cc08.score_index_c(), 5))\n",
    "print('C index (09-clusters):', round(cc09.score_index_c(), 5))\n",
    "print('C index (10-clusters):', round(cc10.score_index_c(), 5))\n",
    "print('C index (11-clusters):', round(cc11.score_index_c(), 5))\n",
    "print('C index (12-clusters):', round(cc12.score_index_c(), 5))\n",
    "print('C index (13-clusters):', round(cc13.score_index_c(), 5))\n",
    "print('C index (14-clusters):', round(cc14.score_index_c(), 5))\n",
    "print('C index (15-clusters):', round(cc15.score_index_c(), 5))\n",
    "print('C index (16-clusters):', round(cc16.score_index_c(), 5))\n",
    "print('C index (17-clusters):', round(cc17.score_index_c(), 5))\n",
    "print('C index (18-clusters):', round(cc18.score_index_c(), 5))"
   ]
  },
  {
   "cell_type": "markdown",
   "id": "a4a2a567",
   "metadata": {},
   "source": [
    "Lower value of `C index` indicates better clustering"
   ]
  },
  {
   "cell_type": "markdown",
   "id": "daa4dd21",
   "metadata": {},
   "source": [
    "- `Dunn index`"
   ]
  },
  {
   "cell_type": "code",
   "execution_count": 8,
   "id": "d71f0cf9",
   "metadata": {},
   "outputs": [
    {
     "name": "stdout",
     "output_type": "stream",
     "text": [
      "Dunn index (08-clusters): 0.00734\n",
      "Dunn index (09-clusters): 0.01075\n",
      "Dunn index (10-clusters): 0.00873\n",
      "Dunn index (11-clusters): 0.01132\n",
      "Dunn index (12-clusters): 0.00957\n",
      "Dunn index (13-clusters): 0.01146\n",
      "Dunn index (14-clusters): 0.01307\n",
      "Dunn index (15-clusters): 0.0067\n",
      "Dunn index (16-clusters): 0.0106\n",
      "Dunn index (17-clusters): 0.00335\n",
      "Dunn index (18-clusters): 0.00674\n"
     ]
    }
   ],
   "source": [
    "print('Dunn index (08-clusters):', round(cc08.score_index_dunn(), 5))\n",
    "print('Dunn index (09-clusters):', round(cc09.score_index_dunn(), 5))\n",
    "print('Dunn index (10-clusters):', round(cc10.score_index_dunn(), 5))\n",
    "print('Dunn index (11-clusters):', round(cc11.score_index_dunn(), 5))\n",
    "print('Dunn index (12-clusters):', round(cc12.score_index_dunn(), 5))\n",
    "print('Dunn index (13-clusters):', round(cc13.score_index_dunn(), 5))\n",
    "print('Dunn index (14-clusters):', round(cc14.score_index_dunn(), 5))\n",
    "print('Dunn index (15-clusters):', round(cc15.score_index_dunn(), 5))\n",
    "print('Dunn index (16-clusters):', round(cc16.score_index_dunn(), 5))\n",
    "print('Dunn index (17-clusters):', round(cc17.score_index_dunn(), 5))\n",
    "print('Dunn index (18-clusters):', round(cc18.score_index_dunn(), 5))"
   ]
  },
  {
   "cell_type": "markdown",
   "id": "f9572ab3",
   "metadata": {},
   "source": [
    "Higher value of `Dunn index` indicates better clustering"
   ]
  },
  {
   "cell_type": "markdown",
   "id": "1de67969",
   "metadata": {},
   "source": [
    "- `Hartigan index`"
   ]
  },
  {
   "cell_type": "code",
   "execution_count": 9,
   "id": "b42be6df",
   "metadata": {},
   "outputs": [
    {
     "name": "stdout",
     "output_type": "stream",
     "text": [
      "Hartigan index (08-clusters): -0.31895\n",
      "Hartigan index (09-clusters): 0.35966\n",
      "Hartigan index (10-clusters): 0.56646\n",
      "Hartigan index (11-clusters): 0.78839\n",
      "Hartigan index (12-clusters): 0.71473\n",
      "Hartigan index (13-clusters): 0.82933\n",
      "Hartigan index (14-clusters): 0.84834\n",
      "Hartigan index (15-clusters): 0.67289\n",
      "Hartigan index (16-clusters): 0.84304\n",
      "Hartigan index (17-clusters): 0.30289\n",
      "Hartigan index (18-clusters): 0.40195\n"
     ]
    }
   ],
   "source": [
    "print('Hartigan index (08-clusters):', round(cc08.score_index_log_ss_ratio(), 5))\n",
    "print('Hartigan index (09-clusters):', round(cc09.score_index_log_ss_ratio(), 5))\n",
    "print('Hartigan index (10-clusters):', round(cc10.score_index_log_ss_ratio(), 5))\n",
    "print('Hartigan index (11-clusters):', round(cc11.score_index_log_ss_ratio(), 5))\n",
    "print('Hartigan index (12-clusters):', round(cc12.score_index_log_ss_ratio(), 5))\n",
    "print('Hartigan index (13-clusters):', round(cc13.score_index_log_ss_ratio(), 5))\n",
    "print('Hartigan index (14-clusters):', round(cc14.score_index_log_ss_ratio(), 5))\n",
    "print('Hartigan index (15-clusters):', round(cc15.score_index_log_ss_ratio(), 5))\n",
    "print('Hartigan index (16-clusters):', round(cc16.score_index_log_ss_ratio(), 5))\n",
    "print('Hartigan index (17-clusters):', round(cc17.score_index_log_ss_ratio(), 5))\n",
    "print('Hartigan index (18-clusters):', round(cc18.score_index_log_ss_ratio(), 5))"
   ]
  },
  {
   "cell_type": "markdown",
   "id": "96b77a0a",
   "metadata": {},
   "source": [
    "Higher value of `Hartigan index` indicates better clustering"
   ]
  },
  {
   "cell_type": "markdown",
   "id": "286049a1",
   "metadata": {},
   "source": [
    "- `Mclain-Rao index`"
   ]
  },
  {
   "cell_type": "code",
   "execution_count": 10,
   "id": "de27a812",
   "metadata": {},
   "outputs": [
    {
     "name": "stdout",
     "output_type": "stream",
     "text": [
      "Mclain-Rao index (08-clusters): 0.52964\n",
      "Mclain-Rao index (09-clusters): 0.49275\n",
      "Mclain-Rao index (10-clusters): 0.45613\n",
      "Mclain-Rao index (11-clusters): 0.44574\n",
      "Mclain-Rao index (12-clusters): 0.44275\n",
      "Mclain-Rao index (13-clusters): 0.44423\n",
      "Mclain-Rao index (14-clusters): 0.43151\n",
      "Mclain-Rao index (15-clusters): 0.46676\n",
      "Mclain-Rao index (16-clusters): 0.43344\n",
      "Mclain-Rao index (17-clusters): 0.45157\n",
      "Mclain-Rao index (18-clusters): 0.46498\n"
     ]
    }
   ],
   "source": [
    "print('Mclain-Rao index (08-clusters):', round(cc08.score_index_mclain_rao(), 5))\n",
    "print('Mclain-Rao index (09-clusters):', round(cc09.score_index_mclain_rao(), 5))\n",
    "print('Mclain-Rao index (10-clusters):', round(cc10.score_index_mclain_rao(), 5))\n",
    "print('Mclain-Rao index (11-clusters):', round(cc11.score_index_mclain_rao(), 5))\n",
    "print('Mclain-Rao index (12-clusters):', round(cc12.score_index_mclain_rao(), 5))\n",
    "print('Mclain-Rao index (13-clusters):', round(cc13.score_index_mclain_rao(), 5))\n",
    "print('Mclain-Rao index (14-clusters):', round(cc14.score_index_mclain_rao(), 5))\n",
    "print('Mclain-Rao index (15-clusters):', round(cc15.score_index_mclain_rao(), 5))\n",
    "print('Mclain-Rao index (16-clusters):', round(cc16.score_index_mclain_rao(), 5))\n",
    "print('Mclain-Rao index (17-clusters):', round(cc17.score_index_mclain_rao(), 5))\n",
    "print('Mclain-Rao index (18-clusters):', round(cc18.score_index_mclain_rao(), 5))"
   ]
  },
  {
   "cell_type": "markdown",
   "id": "2c09b3f9",
   "metadata": {},
   "source": [
    "Lower value of `Mclain-Rao index` indicates better clustering"
   ]
  }
 ],
 "metadata": {
  "kernelspec": {
   "display_name": "Python 3 (ipykernel)",
   "language": "python",
   "name": "python3"
  },
  "language_info": {
   "codemirror_mode": {
    "name": "ipython",
    "version": 3
   },
   "file_extension": ".py",
   "mimetype": "text/x-python",
   "name": "python",
   "nbconvert_exporter": "python",
   "pygments_lexer": "ipython3",
   "version": "3.9.13"
  }
 },
 "nbformat": 4,
 "nbformat_minor": 5
}
